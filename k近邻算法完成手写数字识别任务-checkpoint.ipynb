{
 "cells": [
  {
   "cell_type": "code",
   "execution_count": 2,
   "id": "0b9d074e",
   "metadata": {},
   "outputs": [],
   "source": [
    "import numpy as np"
   ]
  },
  {
   "cell_type": "markdown",
   "id": "d17fecda",
   "metadata": {},
   "source": [
    "# 初步了解knn算法"
   ]
  },
  {
   "cell_type": "markdown",
   "id": "cb06a838",
   "metadata": {},
   "source": [
    "**在了解k-nn算法之前，首先了解什么是向量范数**\n",
    "\n",
    "**它常常被用来度量某个向量空间（或矩阵）中的每个向量的长度或大小。**\n",
    "\n",
    "1-范数:$$ \\|x\\|_1 = |x_1| + |x_2| + \\ldots + |x_n| $$\n",
    "\n",
    "\n",
    "2-范数：$$ \\|x\\|_2 = \\sqrt{x_1^2 + x_2^2 + \\ldots + x_n^2} $$\n",
    "\n",
    "\n",
    "∞-范数：$$ \\|x\\|_\\infty = \\max(|x_1|, |x_2|, \\ldots, |x_n|) $$\n",
    "\n",
    "p-范数：$$ \\|x\\|_p = \\left( |x_1|^p + |x_2|^p + \\ldots + |x_n|^p \\right)^{\\frac{1}{p}} $$\n",
    "\n",
    "\n",
    "\n"
   ]
  },
  {
   "cell_type": "markdown",
   "id": "d4121f77",
   "metadata": {},
   "source": [
    "k近邻中用来选择距离最近的k个样本，k个样本中哪个种类数量最多就把新样本归为哪一类"
   ]
  },
  {
   "cell_type": "code",
   "execution_count": 3,
   "id": "579ca0b7",
   "metadata": {},
   "outputs": [],
   "source": [
    "from numpy.linalg import norm \n",
    "def find_topK(i,k,x,y):\n",
    "    '''\n",
    "    input:\n",
    "        i(int):第i个样本\n",
    "        k(int):最近邻样本个数\n",
    "        x(ndarray):数据特征\n",
    "        y(ndarray):数据标签\n",
    "    output:\n",
    "        topK(list):样本i的最近k个样本标签\n",
    "    '''\n",
    "    dis = np.linalg.norm(x[i]-x,axis = 1)\n",
    "    idx = np.argsort(dis)[1:k+1]\n",
    "    topK = [y[j] for j in idx]\n",
    "    return dis,idx,topK\n",
    "        "
   ]
  },
  {
   "cell_type": "markdown",
   "id": "6859da34",
   "metadata": {},
   "source": [
    "**利用Numpy广播机制可以避免循环，从而提高运行速度**\n",
    "\n",
    "  *The term broadcasting describes how NumPy treats arrays with different shapes during arithmetic operations. Subject to certain constraints, the smaller array is “broadcast” across the larger array so that they have compatible shapes. Broadcasting provides a means of vectorizing array operations so that looping occurs in C instead of Python. It does this without making needless copies of data and usually leads to efficient algorithm implementations. There are, however, cases where broadcasting is a bad idea because it leads to inefficient use of memory that slows computation.*\n",
    "\n",
    "  *the broadcasting ocurrs when two array's each dimension is the same or one of them is one*\n",
    "  \n",
    "  "
   ]
  },
  {
   "cell_type": "code",
   "execution_count": 4,
   "id": "9e5b0bed",
   "metadata": {},
   "outputs": [
    {
     "name": "stdout",
     "output_type": "stream",
     "text": [
      "[[1 2 3]\n",
      " [4 5 6]\n",
      " [7 8 9]]\n"
     ]
    }
   ],
   "source": [
    "a = np.array([[1,2,3],\n",
    "              [4,5,6],\n",
    "              [7,8,9]])\n",
    "b = np.array([0,1,2])\n",
    "print(a)"
   ]
  },
  {
   "cell_type": "code",
   "execution_count": 5,
   "id": "853573a9",
   "metadata": {},
   "outputs": [
    {
     "name": "stdout",
     "output_type": "stream",
     "text": [
      "[10.39230485  5.19615242  0.        ]\n",
      "[1 0]\n",
      "[1, 0]\n"
     ]
    }
   ],
   "source": [
    "rr,cc,kk=find_topK(2,2,a,b)\n",
    "print(rr)\n",
    "print(cc)\n",
    "print(kk)"
   ]
  },
  {
   "cell_type": "markdown",
   "id": "86208526",
   "metadata": {},
   "source": [
    "# **利用knn算法实现手写数字识别**"
   ]
  },
  {
   "cell_type": "code",
   "execution_count": 10,
   "id": "1119a519",
   "metadata": {},
   "outputs": [],
   "source": [
    "from sklearn.datasets import load_digits\n",
    "digits = load_digits()\n",
    "x,y = digits.data,digits.target"
   ]
  },
  {
   "cell_type": "code",
   "execution_count": 18,
   "id": "d11625a6",
   "metadata": {},
   "outputs": [
    {
     "data": {
      "text/plain": [
       "<matplotlib.image.AxesImage at 0x2c4b72cc250>"
      ]
     },
     "execution_count": 18,
     "metadata": {},
     "output_type": "execute_result"
    },
    {
     "data": {
      "image/png": "[encoded data removed]",
      "text/plain": [
       "<Figure size 640x480 with 1 Axes>"
      ]
     },
     "metadata": {},
     "output_type": "display_data"
    }
   ],
   "source": [
    "import matplotlib.pyplot as plt\n",
    "img = x[0].reshape(8,8)\n",
    "plt.imshow(img)"
   ]
  },
  {
   "cell_type": "code",
   "execution_count": 19,
   "id": "49b83154",
   "metadata": {},
   "outputs": [],
   "source": [
    "from sklearn.model_selection import train_test_split\n",
    "train_feature,test_feature,train_label,test_label = train_test_split(x,y,test_size=0.2,random_state=666)"
   ]
  },
  {
   "cell_type": "markdown",
   "id": "672b5a26",
   "metadata": {},
   "source": [
    "# 使用投票法选出k个样本 "
   ]
  },
  {
   "cell_type": "code",
   "execution_count": 29,
   "id": "efe7c154",
   "metadata": {},
   "outputs": [],
   "source": [
    "def knn_clf(k,train_feature,train_label,test_feature):\n",
    "    '''\n",
    "    input:\n",
    "        k(int):最近邻样本个数\n",
    "        train_feature(ndarray):训练样本特征\n",
    "        train_label(ndarray):训练样本标签\n",
    "        test_feature(ndarray):测试样本特征\n",
    "    output:\n",
    "        predict(ndarray):测试样本预测标签\n",
    "    '''\n",
    "    #初始化predict \n",
    "    predict = np.zeros(test_feature.shape[0]).astype('int')\n",
    "    #对每个测试样本使用knn算法\n",
    "    for i in range(test_feature.shape[0]):\n",
    "        dis = np.linalg.norm(test_feature[i]-train_feature,axis = 1)\n",
    "        dis_k = np.sort(dis)[0:k]#前k个样本的距离列表\n",
    "        idx_k = np.argsort(dis)[0:k]#这里我们选取测试集中的样本，它与训练样本是没关系的。因此在这里取前k个样本的索引\n",
    "        nearnest_k = [train_label[j] for j in idx_k]#距离最近的k个样本的标签列表\n",
    "        votes = {}\n",
    "        max = 0\n",
    "        for m,n in enumerate(nearnest_k):\n",
    "            if n in votes.keys():\n",
    "                votes[n] += 1/(dis_k[m]+1e-10)\n",
    "                if votes[n]>max:\n",
    "                    max = votes[n]\n",
    "                    predict[i] = n\n",
    "            elif n not in votes.keys():\n",
    "                votes[n] = 1/(dis_k[m]+1e-10)\n",
    "                max = votes[n]\n",
    "                predict[i] = n\n",
    "        \n",
    "    return predict"
   ]
  },
  {
   "cell_type": "code",
   "execution_count": 49,
   "id": "188a403f",
   "metadata": {
    "scrolled": true
   },
   "outputs": [
    {
     "name": "stdout",
     "output_type": "stream",
     "text": [
      "(360,)\n",
      "[8 1 3 4 4]\n",
      "[8 1 3 4 4]\n"
     ]
    },
    {
     "data": {
      "image/png": "[encoded data removed]",
      "text/plain": [
       "<Figure size 1500x1500 with 5 Axes>"
      ]
     },
     "metadata": {},
     "output_type": "display_data"
    }
   ],
   "source": [
    "predict = knn_clf(5,train_feature,train_label,test_feature)\n",
    "print(predict.shape)\n",
    "fig,axes = plt.subplots(1,5,figsize=(15,15))\n",
    "for i in range(5):\n",
    "    axes[i].imshow(test_feature[i].reshape(8,8))\n",
    "print(test_label[0:5])\n",
    "print(predict[0:5])"
   ]
  },
  {
   "cell_type": "code",
   "execution_count": null,
   "id": "fbc73c79",
   "metadata": {},
   "outputs": [],
   "source": []
  }
 ],
 "metadata": {
  "kernelspec": {
   "display_name": "Python 3 (ipykernel)",
   "language": "python",
   "name": "python3"
  },
  "language_info": {
   "codemirror_mode": {
    "name": "ipython",
    "version": 3
   },
   "file_extension": ".py",
   "mimetype": "text/x-python",
   "name": "python",
   "nbconvert_exporter": "python",
   "pygments_lexer": "ipython3",
   "version": "3.10.13"
  }
 },
 "nbformat": 4,
 "nbformat_minor": 5
}
